{
 "cells": [
  {
   "cell_type": "code",
   "id": "initial_id",
   "metadata": {
    "collapsed": true,
    "ExecuteTime": {
     "end_time": "2025-08-19T16:58:55.690894Z",
     "start_time": "2025-08-19T16:58:54.941749Z"
    }
   },
   "source": "import pandas as pd\n",
   "outputs": [],
   "execution_count": 1
  },
  {
   "metadata": {
    "ExecuteTime": {
     "end_time": "2025-08-19T17:00:08.939298Z",
     "start_time": "2025-08-19T17:00:08.893492Z"
    }
   },
   "cell_type": "code",
   "source": [
    "import pandas as pd\n",
    "\n",
    "df = pd.read_csv('app_ids_final.csv')\n",
    "first_column = df.iloc[:, [0]]  # Keep as DataFrame\n",
    "first_column.to_csv('first_column_only.csv', index=False)"
   ],
   "id": "dc29b9c63ff1cfd4",
   "outputs": [],
   "execution_count": 2
  },
  {
   "metadata": {
    "ExecuteTime": {
     "end_time": "2025-08-22T09:05:51.228159Z",
     "start_time": "2025-08-22T09:05:50.992426Z"
    }
   },
   "cell_type": "code",
   "source": [
    "import os\n",
    "import json\n",
    "\n",
    "input_dir = 'data/whitelist'\n",
    "lis=[]\n",
    "for filename in os.listdir(input_dir):\n",
    "    if filename.endswith('.json'):\n",
    "        with open(os.path.join(input_dir, filename), encoding='utf-8') as f:\n",
    "            content = json.load(f)\n",
    "            for obj in content.values():\n",
    "                if obj.get('maxPage', 0) > 1:\n",
    "                    print(obj.get('maxPage'))\n",
    "                    lis.append(filename[:-5]+\"\\n\")\n",
    "                    break\n",
    "print(len(lis))\n",
    "with open('many_pages.csv', 'w', encoding='utf-8') as f:\n",
    "    f.writelines(lis)\n"
   ],
   "id": "f4d69e7ae3958b2d",
   "outputs": [
    {
     "name": "stdout",
     "output_type": "stream",
     "text": [
      "2\n",
      "4\n",
      "2\n",
      "3\n",
      "2\n",
      "2\n",
      "2\n",
      "2\n",
      "2\n",
      "2\n",
      "2\n",
      "2\n",
      "2\n",
      "2\n",
      "2\n",
      "2\n",
      "12\n",
      "2\n",
      "2\n",
      "7\n",
      "2\n",
      "2\n",
      "2\n",
      "2\n",
      "2\n",
      "2\n",
      "2\n",
      "2\n",
      "2\n",
      "2\n",
      "3\n",
      "2\n",
      "2\n",
      "2\n",
      "2\n",
      "2\n",
      "2\n",
      "2\n",
      "2\n",
      "2\n",
      "2\n",
      "2\n",
      "2\n",
      "2\n",
      "44\n"
     ]
    }
   ],
   "execution_count": 13
  },
  {
   "metadata": {
    "ExecuteTime": {
     "end_time": "2025-08-22T14:30:34.003830Z",
     "start_time": "2025-08-22T14:30:33.781180Z"
    }
   },
   "cell_type": "code",
   "source": [
    "import os\n",
    "import json\n",
    "\n",
    "input_dir = 'data/whitelist'\n",
    "\n",
    "for filename in os.listdir(input_dir):\n",
    "    if filename.endswith('.json'):\n",
    "        filepath = os.path.join(input_dir, filename)\n",
    "        with open(filepath, encoding='utf-8') as f:\n",
    "            content = json.load(f)\n",
    "            inner = next(iter(content.values()))\n",
    "            if  inner['code']!=10000:\n",
    "                print(f\"Removing {filepath} due to 'banip'\")\n",
    "                ()"
   ],
   "id": "1b3cd6fc88c872d",
   "outputs": [],
   "execution_count": 2
  }
 ],
 "metadata": {
  "kernelspec": {
   "display_name": "Python 3",
   "language": "python",
   "name": "python3"
  },
  "language_info": {
   "codemirror_mode": {
    "name": "ipython",
    "version": 2
   },
   "file_extension": ".py",
   "mimetype": "text/x-python",
   "name": "python",
   "nbconvert_exporter": "python",
   "pygments_lexer": "ipython2",
   "version": "2.7.6"
  }
 },
 "nbformat": 4,
 "nbformat_minor": 5
}
